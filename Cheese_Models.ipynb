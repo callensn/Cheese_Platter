{
 "cells": [
  {
   "cell_type": "markdown",
   "id": "239f64d5",
   "metadata": {},
   "source": [
    "## New analysis of the cheese platter problem\n",
    "\n",
    "An airline stocks a certain amount of cheese platters on their flights based on certain factors. Some of these flights sell out of cheese platters. I will endeavor to create a model that correctly stocks each flight so that the airline does not run out of platters and can maximize profit."
   ]
  },
  {
   "cell_type": "code",
   "execution_count": 29,
   "id": "6068fa80",
   "metadata": {},
   "outputs": [],
   "source": [
    "import numpy as np\n",
    "import pandas as pd\n",
    "from sklearn.model_selection import train_test_split\n",
    "from sklearn.preprocessing import OneHotEncoder\n",
    "from sklearn.ensemble import RandomForestClassifier\n",
    "from sklearn.model_selection import cross_val_score"
   ]
  },
  {
   "cell_type": "code",
   "execution_count": 4,
   "id": "e405df59",
   "metadata": {},
   "outputs": [
    {
     "data": {
      "text/html": [
       "<div>\n",
       "<style scoped>\n",
       "    .dataframe tbody tr th:only-of-type {\n",
       "        vertical-align: middle;\n",
       "    }\n",
       "\n",
       "    .dataframe tbody tr th {\n",
       "        vertical-align: top;\n",
       "    }\n",
       "\n",
       "    .dataframe thead th {\n",
       "        text-align: right;\n",
       "    }\n",
       "</style>\n",
       "<table border=\"1\" class=\"dataframe\">\n",
       "  <thead>\n",
       "    <tr style=\"text-align: right;\">\n",
       "      <th></th>\n",
       "      <th>Dptr Hour</th>\n",
       "      <th>Length of Flight (Hrs)</th>\n",
       "      <th>Day of Week</th>\n",
       "      <th>Passengers Boarded</th>\n",
       "      <th>Passengers Booked 2 DtD</th>\n",
       "      <th>Stock Out Occurred</th>\n",
       "      <th>Cheese Platters Sold</th>\n",
       "    </tr>\n",
       "  </thead>\n",
       "  <tbody>\n",
       "    <tr>\n",
       "      <th>0</th>\n",
       "      <td>14</td>\n",
       "      <td>4</td>\n",
       "      <td>Thursday</td>\n",
       "      <td>140</td>\n",
       "      <td>137</td>\n",
       "      <td>1</td>\n",
       "      <td>17</td>\n",
       "    </tr>\n",
       "    <tr>\n",
       "      <th>1</th>\n",
       "      <td>19</td>\n",
       "      <td>6</td>\n",
       "      <td>Tuesday</td>\n",
       "      <td>163</td>\n",
       "      <td>153</td>\n",
       "      <td>0</td>\n",
       "      <td>23</td>\n",
       "    </tr>\n",
       "    <tr>\n",
       "      <th>2</th>\n",
       "      <td>19</td>\n",
       "      <td>2</td>\n",
       "      <td>Saturday</td>\n",
       "      <td>165</td>\n",
       "      <td>160</td>\n",
       "      <td>0</td>\n",
       "      <td>20</td>\n",
       "    </tr>\n",
       "    <tr>\n",
       "      <th>3</th>\n",
       "      <td>6</td>\n",
       "      <td>6</td>\n",
       "      <td>Saturday</td>\n",
       "      <td>161</td>\n",
       "      <td>161</td>\n",
       "      <td>0</td>\n",
       "      <td>16</td>\n",
       "    </tr>\n",
       "    <tr>\n",
       "      <th>4</th>\n",
       "      <td>18</td>\n",
       "      <td>3</td>\n",
       "      <td>Friday</td>\n",
       "      <td>118</td>\n",
       "      <td>112</td>\n",
       "      <td>0</td>\n",
       "      <td>16</td>\n",
       "    </tr>\n",
       "  </tbody>\n",
       "</table>\n",
       "</div>"
      ],
      "text/plain": [
       "   Dptr Hour  Length of Flight (Hrs) Day of Week  Passengers Boarded  \\\n",
       "0         14                       4    Thursday                 140   \n",
       "1         19                       6     Tuesday                 163   \n",
       "2         19                       2    Saturday                 165   \n",
       "3          6                       6    Saturday                 161   \n",
       "4         18                       3      Friday                 118   \n",
       "\n",
       "   Passengers Booked 2 DtD  Stock Out Occurred  Cheese Platters Sold  \n",
       "0                      137                   1                    17  \n",
       "1                      153                   0                    23  \n",
       "2                      160                   0                    20  \n",
       "3                      161                   0                    16  \n",
       "4                      112                   0                    16  "
      ]
     },
     "execution_count": 4,
     "metadata": {},
     "output_type": "execute_result"
    }
   ],
   "source": [
    "data = pd.read_csv(\"cheesplate.csv\")\n",
    "data.head()"
   ]
  },
  {
   "cell_type": "code",
   "execution_count": 11,
   "id": "614c0350",
   "metadata": {},
   "outputs": [],
   "source": [
    "y = pd.get_dummies(data['Day of Week'])\n",
    "data.drop(columns=[\"Day of Week\"])\n",
    "cheese = data.join(y)"
   ]
  },
  {
   "cell_type": "code",
   "execution_count": 22,
   "id": "31a08426",
   "metadata": {},
   "outputs": [],
   "source": [
    "cheese.head()\n",
    "cheese = cheese.drop(columns=[\"Day of Week\"])"
   ]
  },
  {
   "cell_type": "code",
   "execution_count": 24,
   "id": "60541293",
   "metadata": {},
   "outputs": [
    {
     "data": {
      "text/plain": [
       "RandomForestClassifier()"
      ]
     },
     "execution_count": 24,
     "metadata": {},
     "output_type": "execute_result"
    }
   ],
   "source": [
    "X_train, X_test = train_test_split(cheese, test_size=.3)\n",
    "X_train_label = X_train[\"Stock Out Occurred\"]\n",
    "X_train_data = X_train.drop(columns=[\"Stock Out Occurred\"])\n",
    "\n",
    "clf = RandomForestClassifier()\n",
    "clf.fit(X_train_data, X_train_label)"
   ]
  },
  {
   "cell_type": "code",
   "execution_count": 30,
   "id": "6a5e2ca9",
   "metadata": {},
   "outputs": [
    {
     "name": "stdout",
     "output_type": "stream",
     "text": [
      "0.8706666666666667\n",
      "[0.21181374 0.08541306 0.18754157 0.19230144 0.22953083 0.01327472\n",
      " 0.01456657 0.01371795 0.01265195 0.01270684 0.0128879  0.01359342]\n"
     ]
    }
   ],
   "source": [
    "X_test_label = X_test[\"Stock Out Occurred\"]\n",
    "X_test_data = X_test.drop(columns=[\"Stock Out Occurred\"])\n",
    "scores = clf.score(X_test_data, X_test_label)\n",
    "print(scores)\n",
    "print(clf.feature_importances_)\n"
   ]
  },
  {
   "cell_type": "code",
   "execution_count": 37,
   "id": "d5c636bc",
   "metadata": {},
   "outputs": [
    {
     "name": "stdout",
     "output_type": "stream",
     "text": [
      "[0.85616438 0.84931507 0.8490566  0.85591767 0.86106346 0.864494  ]\n"
     ]
    }
   ],
   "source": [
    "clf1 = RandomForestClassifier(max_depth=5, max_features=6, bootstrap=True)\n",
    "cv_scores = cross_val_score(clf1, X_train_data, X_train_label, cv=6)\n",
    "print(cv_scores)"
   ]
  },
  {
   "cell_type": "code",
   "execution_count": 38,
   "id": "54170aa2",
   "metadata": {},
   "outputs": [
    {
     "name": "stdout",
     "output_type": "stream",
     "text": [
      "7 6 250\n"
     ]
    }
   ],
   "source": [
    "depth = [2,3,4,5,6,7]\n",
    "features = [1,2,3,4,5,6]\n",
    "estimate = [50,100,150,200,250,300]\n",
    "means = 0\n",
    "\n",
    "for d in depth:\n",
    "    for f in features:\n",
    "        for e in estimate:\n",
    "            clf = RandomForestClassifier(n_estimators=e, max_depth=d, max_features=f, bootstrap=True)\n",
    "            cv_scores = cross_val_score(clf, X_train_data, X_train_label, cv=6)\n",
    "            if np.mean(cv_scores) > means:\n",
    "                best_depth = d\n",
    "                best_features = f\n",
    "                best_estimate = e\n",
    "                means = np.mean(cv_scores)\n",
    "\n",
    "print(best_depth, best_features, best_estimate)"
   ]
  },
  {
   "cell_type": "code",
   "execution_count": 40,
   "id": "b55e21f4",
   "metadata": {},
   "outputs": [
    {
     "name": "stdout",
     "output_type": "stream",
     "text": [
      "11 9\n"
     ]
    }
   ],
   "source": [
    "new_depth = [7,8,9,10,11]\n",
    "new_features = [6,7,8,9]\n",
    "new_means = 0\n",
    "\n",
    "for d in new_depth:\n",
    "    for f in new_features:\n",
    "        clf = RandomForestClassifier(n_estimators=250, max_depth = d, max_features=f)\n",
    "        cv_scores = cross_val_score(clf, X_train_data, X_train_label, cv=5)\n",
    "        if np.mean(cv_scores > new_means):\n",
    "            best_depth1 = d\n",
    "            best_features1 = f\n",
    "            new_means = np.mean(cv_scores)\n",
    "\n",
    "print(best_depth1, best_features1)"
   ]
  }
 ],
 "metadata": {
  "kernelspec": {
   "display_name": "Python 3 (ipykernel)",
   "language": "python",
   "name": "python3"
  },
  "language_info": {
   "codemirror_mode": {
    "name": "ipython",
    "version": 3
   },
   "file_extension": ".py",
   "mimetype": "text/x-python",
   "name": "python",
   "nbconvert_exporter": "python",
   "pygments_lexer": "ipython3",
   "version": "3.8.11"
  }
 },
 "nbformat": 4,
 "nbformat_minor": 5
}
